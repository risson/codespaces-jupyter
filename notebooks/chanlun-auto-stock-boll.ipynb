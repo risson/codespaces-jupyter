{
 "cells": [
  {
   "cell_type": "code",
   "execution_count": 1,
   "metadata": {},
   "outputs": [],
   "source": [
    "from pytdx.config.hosts import hq_hosts\n",
    "import pandas as pd\n",
    "from pytdx.hq import TdxHq_API\n",
    "import seaborn as sns\n",
    "\n",
    "from smtplib import SMTP\n",
    "from email.mime.text import MIMEText\n",
    "from email.mime.multipart import MIMEMultipart\n",
    "\n",
    "import time"
   ]
  },
  {
   "cell_type": "code",
   "execution_count": 2,
   "metadata": {},
   "outputs": [],
   "source": [
    "stocks_hyao = [(1, '600482','中国动力'), \n",
    "                (1, '588000','科创50ETF'), \n",
    "                (0, '300308','中际旭创'), \n",
    "                (1, '688777','中控技术')]\n",
    "\n",
    "stocks_lan = [(1, '603019','中科曙光'),]"
   ]
  },
  {
   "cell_type": "code",
   "execution_count": 3,
   "metadata": {},
   "outputs": [],
   "source": [
    "def bollinger_bands(df, n, m):\n",
    "    # takes dataframe on input\n",
    "    # n = smoothing length\n",
    "    # m = number of standard deviations away from MA\n",
    "    \n",
    "    #typical price\n",
    "    TP = (df['high'] + df['low'] + df['close']) / 3\n",
    "    # but we will use Adj close instead for now, depends\n",
    "    \n",
    "    data = df['close']\n",
    "    #data = TP\n",
    "    #data = df['Adj Close']\n",
    "    \n",
    "    # takes one column from dataframe\n",
    "    B_MA = pd.Series((data.rolling(n, min_periods=n).mean()), name='B_MA')\n",
    "    sigma = data.rolling(n, min_periods=n).std() \n",
    "    \n",
    "    BU = pd.Series((B_MA + m * sigma), name='BU')\n",
    "    BL = pd.Series((B_MA - m * sigma), name='BL')\n",
    "    \n",
    "    df = df.join(B_MA)\n",
    "    df = df.join(BU)\n",
    "    df = df.join(BL)\n",
    "    \n",
    "    return df\n",
    "\n",
    "\n",
    "def send_mail(subjectline, body, to_addr):\n",
    "\n",
    "    host = \"smtp.tom.com\"\n",
    "    port = 25\n",
    "    from_addr = \"risson_chanlun@tom.com\"\n",
    "    sender_email = \"risson_chanlun@tom.com\"\n",
    "    paaa = \"***\"\n",
    "\n",
    "    message = MIMEMultipart()\n",
    "    message.attach(MIMEText(body, \"html\"))\n",
    "    message['Subject'] = subjectline\n",
    "    message['From'] = from_addr\n",
    "    message['To'] = to_addr\n",
    "    msg_body = message.as_string()\n",
    "   \n",
    "    with SMTP(host, port) as server:\n",
    "        server.login(sender_email, paaa)\n",
    "        server.sendmail(message['From'], message['To'], msg_body)\n",
    "\n",
    "    print(\"Sent!\")"
   ]
  },
  {
   "cell_type": "code",
   "execution_count": 5,
   "metadata": {},
   "outputs": [
    {
     "name": "stdout",
     "output_type": "stream",
     "text": [
      "Connected!\n",
      "Connected!\n",
      "Connected!\n",
      "Connected!\n",
      "Connected!\n",
      "Connected!\n",
      "Connected!\n"
     ]
    },
    {
     "ename": "KeyboardInterrupt",
     "evalue": "",
     "output_type": "error",
     "traceback": [
      "\u001b[0;31m---------------------------------------------------------------------------\u001b[0m",
      "\u001b[0;31mKeyboardInterrupt\u001b[0m                         Traceback (most recent call last)",
      "Cell \u001b[0;32mIn[5], line 63\u001b[0m\n\u001b[1;32m     60\u001b[0m         send_mail(subject,body,\u001b[38;5;124m\"\u001b[39m\u001b[38;5;124m6195119@qq.com\u001b[39m\u001b[38;5;124m\"\u001b[39m)\n\u001b[1;32m     62\u001b[0m ticktock \u001b[38;5;241m+\u001b[39m\u001b[38;5;241m=\u001b[39m \u001b[38;5;241m1\u001b[39m\n\u001b[0;32m---> 63\u001b[0m \u001b[43mtime\u001b[49m\u001b[38;5;241;43m.\u001b[39;49m\u001b[43msleep\u001b[49m\u001b[43m(\u001b[49m\u001b[38;5;241;43m300\u001b[39;49m\u001b[43m)\u001b[49m\n",
      "\u001b[0;31mKeyboardInterrupt\u001b[0m: "
     ]
    }
   ],
   "source": [
    "ticktock =  0\n",
    "while ticktock<24:\n",
    "\n",
    "    api = TdxHq_API()\n",
    "    host = hq_hosts[10]\n",
    "    n = 480   # datapoint rolling window\n",
    "    m = 2    # sigma width\n",
    "\n",
    "    df_hyao = []\n",
    "    boll_hyao = []\n",
    "    df_lan = []\n",
    "    boll_lan = []\n",
    "\n",
    "    if api.connect(host[1], host[2]):\n",
    "        print('Connected!')\n",
    "\n",
    "        for stock in stocks_hyao:\n",
    "            df = api.to_df(api.get_security_bars(0, stock[0], stock[1], 0, 500)) # 5 min k lines\n",
    "            df_hyao += [df]\n",
    "\n",
    "        for stock in stocks_lan:\n",
    "            df = api.to_df(api.get_security_bars(0, stock[0], stock[1], 0, 500)) # 5 min k lines\n",
    "            df_lan += [df]\n",
    "\n",
    "        api.disconnect()\n",
    "\n",
    "    else:   \n",
    "        send_mail(\"布林程序连接数据失败\",\"布林监控程序连接通达信数据失败\",\"270156760@qq.com\")\n",
    "\n",
    "    for df in df_hyao:\n",
    "        boll_hyao += [bollinger_bands(df, n, m)]\n",
    "    \n",
    "    for df in df_lan:\n",
    "        boll_lan += [bollinger_bands(df, n, m)]\n",
    "        \n",
    "    for i in range(len(df_hyao)):\n",
    "        boll = boll_hyao[i]\n",
    "        if boll.iloc[-2]['high'] < boll.iloc[-2]['BU'] and boll.iloc[-1]['high'] >= boll.iloc[-2]['BU']:\n",
    "            stock_nm = stocks_hyao[i][2]\n",
    "            subject = f\"[{stock_nm}] 5F布林上穿上轨\"\n",
    "            body = f\"时间：{boll.iloc[-1]['datetime']}，现价：{boll.iloc[-1]['close']}\"\n",
    "            send_mail(subject,body,\"270156760@qq.com\")\n",
    "        if (boll.iloc[-3]['low'] > boll.iloc[-3]['BU'] or boll.iloc[-2]['low'] > boll.iloc[-2]['BU']) and boll.iloc[-1]['low'] <= boll.iloc[-2]['BU']:\n",
    "            stock_nm = stocks_hyao[i][2]\n",
    "            subject = f\"[{stock_nm}] 5F布林下穿上轨\"\n",
    "            body = f\"时间：{boll.iloc[-1]['datetime']}，现价：{boll.iloc[-1]['close']}\"\n",
    "            send_mail(subject,body,\"270156760@qq.com\")\n",
    "\n",
    "    for i in range(len(df_lan)):\n",
    "        boll = boll_lan[i]\n",
    "        if boll.iloc[-2]['high'] < boll.iloc[-2]['BU'] and boll.iloc[-1]['high'] >= boll.iloc[-2]['BU']:\n",
    "            stock_nm = stocks_lan[i][2]\n",
    "            subject = f\"[{stock_nm}] 5F布林上穿上轨\"\n",
    "            body = f\"时间：{boll.iloc[-1]['datetime']}，现价：{boll.iloc[-1]['close']}\"\n",
    "            send_mail(subject,body,\"6195119@qq.com\")\n",
    "        if (boll.iloc[-3]['low'] > boll.iloc[-3]['BU'] or boll.iloc[-2]['low'] > boll.iloc[-2]['BU']) and boll.iloc[-1]['low'] <= boll.iloc[-2]['BU']:\n",
    "            stock_nm = stocks_lan[i][2]\n",
    "            subject = f\"[{stock_nm}] 5F布林下穿上轨\"\n",
    "            body = f\"时间：{boll.iloc[-1]['datetime']}，现价：{boll.iloc[-1]['close']}\"\n",
    "            send_mail(subject,body,\"6195119@qq.com\")\n",
    "\n",
    "    ticktock += 1\n",
    "    time.sleep(300)\n",
    "    "
   ]
  },
  {
   "cell_type": "code",
   "execution_count": null,
   "metadata": {},
   "outputs": [],
   "source": []
  }
 ],
 "metadata": {
  "kernelspec": {
   "display_name": "Python 3.10.4 64-bit",
   "language": "python",
   "name": "python3"
  },
  "language_info": {
   "codemirror_mode": {
    "name": "ipython",
    "version": 3
   },
   "file_extension": ".py",
   "mimetype": "text/x-python",
   "name": "python",
   "nbconvert_exporter": "python",
   "pygments_lexer": "ipython3",
   "version": "3.10.13"
  },
  "orig_nbformat": 4,
  "vscode": {
   "interpreter": {
    "hash": "3ad933181bd8a04b432d3370b9dc3b0662ad032c4dfaa4e4f1596c548f763858"
   }
  }
 },
 "nbformat": 4,
 "nbformat_minor": 2
}
