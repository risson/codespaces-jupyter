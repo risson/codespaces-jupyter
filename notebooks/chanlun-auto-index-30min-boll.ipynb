{
 "cells": [
  {
   "cell_type": "code",
   "execution_count": 3,
   "metadata": {},
   "outputs": [],
   "source": [
    "from pytdx.config.hosts import hq_hosts\n",
    "import pandas as pd\n",
    "from pytdx.hq import TdxHq_API\n",
    "import seaborn as sns\n",
    "\n",
    "from smtplib import SMTP\n",
    "from email.mime.text import MIMEText\n",
    "from email.mime.multipart import MIMEMultipart\n",
    "\n",
    "import time"
   ]
  },
  {
   "cell_type": "code",
   "execution_count": 4,
   "metadata": {},
   "outputs": [],
   "source": [
    "index_lst = [(1, '000001','上证指数'), \n",
    "          (0, '399001','深证成指'), \n",
    "          (0, '399006','创业板指')]"
   ]
  },
  {
   "cell_type": "code",
   "execution_count": 5,
   "metadata": {},
   "outputs": [],
   "source": [
    "def bollinger_bands(df, n, m):\n",
    "    # takes dataframe on input\n",
    "    # n = smoothing length\n",
    "    # m = number of standard deviations away from MA\n",
    "    \n",
    "    #typical price\n",
    "    TP = (df['high'] + df['low'] + df['close']) / 3\n",
    "    # but we will use Adj close instead for now, depends\n",
    "    \n",
    "    data = df['close']\n",
    "    #data = TP\n",
    "    #data = df['Adj Close']\n",
    "    \n",
    "    # takes one column from dataframe\n",
    "    B_MA = pd.Series((data.rolling(n, min_periods=n).mean()), name='B_MA')\n",
    "    sigma = data.rolling(n, min_periods=n).std() \n",
    "    \n",
    "    BU = pd.Series((B_MA + m * sigma), name='BU')\n",
    "    BL = pd.Series((B_MA - m * sigma), name='BL')\n",
    "    \n",
    "    df = df.join(B_MA)\n",
    "    df = df.join(BU)\n",
    "    df = df.join(BL)\n",
    "    \n",
    "    return df\n",
    "\n",
    "\n",
    "def send_mail(subjectline, body, to_addr):\n",
    "\n",
    "    host = \"smtp.tom.com\"\n",
    "    port = 25\n",
    "    from_addr = \"risson_chanlun@tom.com\"\n",
    "    sender_email = \"risson_chanlun@tom.com\"\n",
    "    paaa = \"***\"\n",
    "\n",
    "    message = MIMEMultipart()\n",
    "    message.attach(MIMEText(body, \"html\"))\n",
    "    message['Subject'] = subjectline\n",
    "    message['From'] = from_addr\n",
    "    message['To'] = to_addr\n",
    "    msg_body = message.as_string()\n",
    "   \n",
    "    with SMTP(host, port) as server:\n",
    "        server.login(sender_email, paaa)\n",
    "        server.sendmail(message['From'], message['To'], msg_body)\n",
    "\n",
    "    print(\"Sent!\")"
   ]
  },
  {
   "cell_type": "code",
   "execution_count": 6,
   "metadata": {},
   "outputs": [
    {
     "name": "stdout",
     "output_type": "stream",
     "text": [
      "Connected!\n",
      "Connected!\n",
      "Connected!\n"
     ]
    },
    {
     "ename": "TimeoutError",
     "evalue": "timed out",
     "output_type": "error",
     "traceback": [
      "\u001b[0;31m---------------------------------------------------------------------------\u001b[0m",
      "\u001b[0;31mTimeoutError\u001b[0m                              Traceback (most recent call last)",
      "Cell \u001b[0;32mIn[6], line 12\u001b[0m\n\u001b[1;32m      9\u001b[0m df_index30 \u001b[38;5;241m=\u001b[39m []\n\u001b[1;32m     10\u001b[0m boll_index30 \u001b[38;5;241m=\u001b[39m []\n\u001b[0;32m---> 12\u001b[0m \u001b[38;5;28;01mif\u001b[39;00m \u001b[43mapi\u001b[49m\u001b[38;5;241;43m.\u001b[39;49m\u001b[43mconnect\u001b[49m\u001b[43m(\u001b[49m\u001b[43mhost\u001b[49m\u001b[43m[\u001b[49m\u001b[38;5;241;43m1\u001b[39;49m\u001b[43m]\u001b[49m\u001b[43m,\u001b[49m\u001b[43m \u001b[49m\u001b[43mhost\u001b[49m\u001b[43m[\u001b[49m\u001b[38;5;241;43m2\u001b[39;49m\u001b[43m]\u001b[49m\u001b[43m)\u001b[49m:\n\u001b[1;32m     13\u001b[0m     \u001b[38;5;28mprint\u001b[39m(\u001b[38;5;124m'\u001b[39m\u001b[38;5;124mConnected!\u001b[39m\u001b[38;5;124m'\u001b[39m)\n\u001b[1;32m     15\u001b[0m     \u001b[38;5;28;01mfor\u001b[39;00m stock \u001b[38;5;129;01min\u001b[39;00m index_lst:\n",
      "File \u001b[0;32m~/.python/current/lib/python3.10/site-packages/pytdx/base_socket_client.py:189\u001b[0m, in \u001b[0;36mBaseSocketClient.connect\u001b[0;34m(self, ip, port, time_out, bindport, bindip)\u001b[0m\n\u001b[1;32m    186\u001b[0m log\u001b[38;5;241m.\u001b[39mdebug(\u001b[38;5;124m\"\u001b[39m\u001b[38;5;124mconnected!\u001b[39m\u001b[38;5;124m\"\u001b[39m)\n\u001b[1;32m    188\u001b[0m \u001b[38;5;28;01mif\u001b[39;00m \u001b[38;5;28mself\u001b[39m\u001b[38;5;241m.\u001b[39mneed_setup:\n\u001b[0;32m--> 189\u001b[0m     \u001b[38;5;28;43mself\u001b[39;49m\u001b[38;5;241;43m.\u001b[39;49m\u001b[43msetup\u001b[49m\u001b[43m(\u001b[49m\u001b[43m)\u001b[49m\n\u001b[1;32m    191\u001b[0m \u001b[38;5;28;01mif\u001b[39;00m \u001b[38;5;28mself\u001b[39m\u001b[38;5;241m.\u001b[39mheartbeat:\n\u001b[1;32m    192\u001b[0m     \u001b[38;5;28mself\u001b[39m\u001b[38;5;241m.\u001b[39mstop_event \u001b[38;5;241m=\u001b[39m threading\u001b[38;5;241m.\u001b[39mEvent()\n",
      "File \u001b[0;32m~/.python/current/lib/python3.10/site-packages/pytdx/hq.py:53\u001b[0m, in \u001b[0;36mTdxHq_API.setup\u001b[0;34m(self)\u001b[0m\n\u001b[1;32m     52\u001b[0m \u001b[38;5;28;01mdef\u001b[39;00m \u001b[38;5;21msetup\u001b[39m(\u001b[38;5;28mself\u001b[39m):\n\u001b[0;32m---> 53\u001b[0m     \u001b[43mSetupCmd1\u001b[49m\u001b[43m(\u001b[49m\u001b[38;5;28;43mself\u001b[39;49m\u001b[38;5;241;43m.\u001b[39;49m\u001b[43mclient\u001b[49m\u001b[43m)\u001b[49m\u001b[38;5;241;43m.\u001b[39;49m\u001b[43mcall_api\u001b[49m\u001b[43m(\u001b[49m\u001b[43m)\u001b[49m\n\u001b[1;32m     54\u001b[0m     SetupCmd2(\u001b[38;5;28mself\u001b[39m\u001b[38;5;241m.\u001b[39mclient)\u001b[38;5;241m.\u001b[39mcall_api()\n\u001b[1;32m     55\u001b[0m     SetupCmd3(\u001b[38;5;28mself\u001b[39m\u001b[38;5;241m.\u001b[39mclient)\u001b[38;5;241m.\u001b[39mcall_api()\n",
      "File \u001b[0;32m~/.python/current/lib/python3.10/site-packages/pytdx/parser/base.py:74\u001b[0m, in \u001b[0;36mBaseParser.call_api\u001b[0;34m(self)\u001b[0m\n\u001b[1;32m     72\u001b[0m         result \u001b[38;5;241m=\u001b[39m \u001b[38;5;28mself\u001b[39m\u001b[38;5;241m.\u001b[39m_call_api()\n\u001b[1;32m     73\u001b[0m \u001b[38;5;28;01melse\u001b[39;00m:\n\u001b[0;32m---> 74\u001b[0m     result \u001b[38;5;241m=\u001b[39m \u001b[38;5;28;43mself\u001b[39;49m\u001b[38;5;241;43m.\u001b[39;49m\u001b[43m_call_api\u001b[49m\u001b[43m(\u001b[49m\u001b[43m)\u001b[49m\n\u001b[1;32m     75\u001b[0m \u001b[38;5;28;01mreturn\u001b[39;00m result\n",
      "File \u001b[0;32m~/.python/current/lib/python3.10/site-packages/pytdx/parser/base.py:102\u001b[0m, in \u001b[0;36mBaseParser._call_api\u001b[0;34m(self)\u001b[0m\n\u001b[1;32m    100\u001b[0m     \u001b[38;5;28;01mraise\u001b[39;00m SendRequestPkgFails(\u001b[38;5;124m\"\u001b[39m\u001b[38;5;124msend fails\u001b[39m\u001b[38;5;124m\"\u001b[39m)\n\u001b[1;32m    101\u001b[0m \u001b[38;5;28;01melse\u001b[39;00m:\n\u001b[0;32m--> 102\u001b[0m     head_buf \u001b[38;5;241m=\u001b[39m \u001b[38;5;28;43mself\u001b[39;49m\u001b[38;5;241;43m.\u001b[39;49m\u001b[43mclient\u001b[49m\u001b[38;5;241;43m.\u001b[39;49m\u001b[43mrecv\u001b[49m\u001b[43m(\u001b[49m\u001b[38;5;28;43mself\u001b[39;49m\u001b[38;5;241;43m.\u001b[39;49m\u001b[43mrsp_header_len\u001b[49m\u001b[43m)\u001b[49m\n\u001b[1;32m    103\u001b[0m     \u001b[38;5;28;01mif\u001b[39;00m DEBUG:\n\u001b[1;32m    104\u001b[0m         log\u001b[38;5;241m.\u001b[39mdebug(\u001b[38;5;124m\"\u001b[39m\u001b[38;5;124mrecv head_buf:\u001b[39m\u001b[38;5;124m\"\u001b[39m \u001b[38;5;241m+\u001b[39m \u001b[38;5;28mstr\u001b[39m(head_buf)  \u001b[38;5;241m+\u001b[39m \u001b[38;5;124m\"\u001b[39m\u001b[38;5;124m |len is :\u001b[39m\u001b[38;5;124m\"\u001b[39m \u001b[38;5;241m+\u001b[39m \u001b[38;5;28mstr\u001b[39m(\u001b[38;5;28mlen\u001b[39m(head_buf)))\n",
      "\u001b[0;31mTimeoutError\u001b[0m: timed out"
     ]
    }
   ],
   "source": [
    "ticktock =  0\n",
    "while ticktock<4:\n",
    "\n",
    "    api = TdxHq_API()\n",
    "    host = hq_hosts[12]\n",
    "    n = 480   # datapoint rolling window\n",
    "    m = 2    # sigma width\n",
    "\n",
    "    df_index30 = []\n",
    "    boll_index30 = []\n",
    "\n",
    "    if api.connect(host[1], host[2]):\n",
    "        print('Connected!')\n",
    "\n",
    "        for stock in index_lst:\n",
    "            df = api.to_df(api.get_security_bars(2, stock[0], stock[1], 0, 500)) # 30 min k lines\n",
    "            df_index30 += [df]\n",
    "\n",
    "        api.disconnect()\n",
    "\n",
    "    else:   \n",
    "        send_mail(\"布林程序连接数据失败\",\"布林监控程序连接通达信数据失败\",\"270156760@qq.com\")\n",
    "\n",
    "    for df in df_index30:\n",
    "        boll_index30 += [bollinger_bands(df, n, m)]\n",
    "        \n",
    "    for i in range(len(df_index30)):\n",
    "        boll = boll_index30[i]\n",
    "        if boll.iloc[-2]['high'] < boll.iloc[-2]['BU'] and boll.iloc[-1]['high'] >= boll.iloc[-2]['BU']:\n",
    "            stock_nm = index_lst[i][2]\n",
    "            subject = f\"[{stock_nm}] 30F布林上穿上轨\"\n",
    "            body = f\"时间：{boll.iloc[-1]['datetime']}，现价：{boll.iloc[-1]['close']}\"\n",
    "            send_mail(subject,body,\"270156760@qq.com\")\n",
    "        if (boll.iloc[-3]['low'] > boll.iloc[-3]['BU'] or boll.iloc[-2]['low'] > boll.iloc[-2]['BU']) and boll.iloc[-1]['low'] <= boll.iloc[-2]['BU']:\n",
    "            stock_nm = index_lst[i][2]\n",
    "            subject = f\"[{stock_nm}] 30F布林下穿上轨\"\n",
    "            body = f\"时间：{boll.iloc[-1]['datetime']}，现价：{boll.iloc[-1]['close']}\"\n",
    "            send_mail(subject,body,\"270156760@qq.com\")\n",
    "\n",
    "    ticktock += 1\n",
    "    time.sleep(1800)"
   ]
  },
  {
   "cell_type": "code",
   "execution_count": null,
   "metadata": {},
   "outputs": [],
   "source": []
  }
 ],
 "metadata": {
  "kernelspec": {
   "display_name": "Python 3.10.4 64-bit",
   "language": "python",
   "name": "python3"
  },
  "language_info": {
   "codemirror_mode": {
    "name": "ipython",
    "version": 3
   },
   "file_extension": ".py",
   "mimetype": "text/x-python",
   "name": "python",
   "nbconvert_exporter": "python",
   "pygments_lexer": "ipython3",
   "version": "3.10.13"
  },
  "orig_nbformat": 4,
  "vscode": {
   "interpreter": {
    "hash": "3ad933181bd8a04b432d3370b9dc3b0662ad032c4dfaa4e4f1596c548f763858"
   }
  }
 },
 "nbformat": 4,
 "nbformat_minor": 2
}
